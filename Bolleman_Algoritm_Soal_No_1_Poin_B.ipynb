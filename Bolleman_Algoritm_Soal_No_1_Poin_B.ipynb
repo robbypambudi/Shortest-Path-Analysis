{
 "cells": [
  {
   "cell_type": "markdown",
   "metadata": {},
   "source": [
    "# Graph - Bolleman Problem\n"
   ]
  },
  {
   "cell_type": "code",
   "execution_count": 15,
   "metadata": {},
   "outputs": [],
   "source": [
    "import networkx as nx\n",
    "import matplotlib.pyplot as plt\n",
    "import time"
   ]
  },
  {
   "cell_type": "code",
   "execution_count": 5,
   "metadata": {},
   "outputs": [],
   "source": [
    "# create class for graph visualization\n",
    "class GraphVisualization:\n",
    "  def __init__(self, graph):\n",
    "    self.G = nx.Graph()\n",
    "    self.graph = graph\n",
    "    self.nodes = list(graph.keys())\n",
    "\n",
    "  # method for add edges\n",
    "  def addEdge(self, a, b, weight):\n",
    "    self.G.add_edge(a, b, weight=weight)\n",
    "\n",
    "  # method for visualize a graph\n",
    "  def visualize(self):\n",
    "    pos = nx.spring_layout(self.G)\n",
    "    weights = nx.get_edge_attributes(self.G, \"weight\")\n",
    "\n",
    "    self.G.add_nodes_from(self.nodes)\n",
    "    plt.figure()\n",
    "    nx.draw(\n",
    "      self.G, pos, edge_color='black', width=1, linewidths=1,\n",
    "      node_size=500, node_color='pink', alpha=0.9,\n",
    "      labels={node: node for node in self.G.nodes()}\n",
    "    )\n",
    "    nx.draw_networkx_edge_labels(self.G, pos, edge_labels=weights)\n",
    "    plt.axis('off')\n",
    "    plt.show()\n",
    "\n",
    "  # visualize a graph\n",
    "  def graph_visualize(self):\n",
    "    for i in self.graph:\n",
    "      for j in self.graph[i]:\n",
    "        self.addEdge(i, j['v'], j['w'])\n",
    "\n",
    "    self.visualize()"
   ]
  },
  {
   "cell_type": "code",
   "execution_count": 28,
   "metadata": {},
   "outputs": [],
   "source": [
    "# Created graph\n",
    "graph = {\n",
    "    'V1': [{'v': 'V2','w': 2}, {'v': 'V4','w': 1}, {'v': 'V3', 'w': 8}],\n",
    "    'V2': [{'v': 'V1','w': 2}, {'v': 'V5','w': 1}, {'v': 'V3','w': 6}],\n",
    "    'V3': [{'v': 'V1','w': 8}, {'v': 'V2','w': 6}, {'v': 'V4','w': 7}, {'v': 'V5','w': 5}, {'v': 'V6','w': 1}, {'v': 'V7','w': 2}],\n",
    "    'V4': [{'v': 'V1','w': 1}, {'v': 'V3','w': 7}, {'v': 'V7','w': 9}],\n",
    "    'V5': [{'v': 'V2','w': 1}, {'v': 'V3','w': 5}, {'v': 'V6','w': 3}, {'v': 'V9','w': 7}],\n",
    "    'V6': [{'v': 'V3','w': 1}, {'v': 'V5','w': 3}, {'v': 'V9','w': 9}, {'v': 'V7','w': 4}],\n",
    "    'V7': [{'v': 'V3','w': 2}, {'v': 'V4','w': 9}, {'v': 'V6','w': 4}, {'v': 'V9','w': 3}, {'v': 'V10','w': 1}],\n",
    "    'V8': [{'v': 'V5','w': 2}, {'v': 'V9','w': 7}, {'v': 'V11','w': 9}],\n",
    "    'V9': [{'v': 'V5','w': 9}, {'v': 'V6','w': 6}, {'v': 'V7','w': 3}, {'v': 'V8','w': 7}, {'v': 'V10','w': 1}, {'v': 'V11','w': 2}],\n",
    "    'V10': [{'v': 'V7','w': 1}, {'v': 'V9','w': 1}, {'v': 'V11','w': 4}],\n",
    "    'V11': [{'v': 'V8','w': 9}, {'v': 'V9','w': 2}, {'v': 'V10','w': 4}],\n",
    "}"
   ]
  },
  {
   "cell_type": "code",
   "execution_count": 29,
   "metadata": {},
   "outputs": [],
   "source": [
    "# Create bellman ford algorithm\n",
    "\n",
    "def bellmanFord(graph, src: str, dest: str):\n",
    "    INF = 9999\n",
    "    dist = {}\n",
    "    prev = {}\n",
    "    for node in graph:\n",
    "        dist[node] = INF\n",
    "        prev[node] = None\n",
    "    dist[src] = 0\n",
    "\n",
    "    for _ in range(len(graph) - 1):\n",
    "        for node in graph:\n",
    "            for neighbor in graph[node]:\n",
    "                if dist[neighbor['v']] > dist[node] + neighbor['w']:\n",
    "                    dist[neighbor['v']] = dist[node] + neighbor['w']\n",
    "                    prev[neighbor['v']] = node\n",
    "\n",
    "    for node in graph:\n",
    "        for neighbor in graph[node]:\n",
    "            assert dist[neighbor['v']] <= dist[node] + neighbor['w'], \"Negative cycle exists\"\n",
    "\n",
    "    path = []\n",
    "    node = dest\n",
    "    while node is not None:\n",
    "        path.append(node)\n",
    "        node = prev[node]\n",
    "    path = path[::-1]\n",
    "\n",
    "    return path, dist[dest]\n",
    "\n",
    "\n",
    "\n",
    "        "
   ]
  },
  {
   "cell_type": "code",
   "execution_count": 39,
   "metadata": {},
   "outputs": [
    {
     "name": "stdout",
     "output_type": "stream",
     "text": [
      "V1 V2 V5 V9 V11 \n",
      "Total distance:  12\n",
      "Time execution:  0.0\n"
     ]
    }
   ],
   "source": [
    "star = time.time()\n",
    "shortest_path, dist=  bellmanFord(graph, 'V1', 'V11')\n",
    "end = time.time()\n",
    "\n",
    "for i in shortest_path:\n",
    "    print(i, end=\" \")\n",
    "print()\n",
    "print(\"Total distance: \", dist)\n",
    "print(\"Time execution: \", end - star)\n"
   ]
  },
  {
   "cell_type": "markdown",
   "metadata": {},
   "source": [
    "# Visualization Result"
   ]
  },
  {
   "cell_type": "code",
   "execution_count": 44,
   "metadata": {},
   "outputs": [
    {
     "name": "stdout",
     "output_type": "stream",
     "text": [
      "0 V1\n",
      "1 V2\n",
      "2 V5\n",
      "3 V9\n",
      "4 V11\n",
      "{'V1': [{'v': 'V2', 'w': 2}], 'V2': [{'v': 'V5', 'w': 1}], 'V5': [{'v': 'V9', 'w': 7}], 'V9': [{'v': 'V11', 'w': 2}]}\n"
     ]
    },
    {
     "data": {
      "image/png": "[encoded data removed]",
      "text/plain": [
       "<Figure size 640x480 with 1 Axes>"
      ]
     },
     "metadata": {},
     "output_type": "display_data"
    }
   ],
   "source": [
    "# Create table for result\n",
    "shortest_graph = {}\n",
    "\n",
    "for index, value in enumerate(shortest_path):\n",
    "    try:\n",
    "        for j in graph[value]:\n",
    "            if j['v'] == shortest_path[index + 1]:\n",
    "                shortest_graph.update({value: [j]})\n",
    "    except:\n",
    "        break \n",
    "S = GraphVisualization(shortest_graph)\n",
    "\n",
    "for i in shortest_graph:\n",
    "  for j in shortest_graph[i]:\n",
    "        S.addEdge(i, j['v'], j['w'])\n",
    "\n",
    "S.visualize()\n"
   ]
  }
 ],
 "metadata": {
  "kernelspec": {
   "display_name": "base",
   "language": "python",
   "name": "python3"
  },
  "language_info": {
   "codemirror_mode": {
    "name": "ipython",
    "version": 3
   },
   "file_extension": ".py",
   "mimetype": "text/x-python",
   "name": "python",
   "nbconvert_exporter": "python",
   "pygments_lexer": "ipython3",
   "version": "3.11.4"
  },
  "orig_nbformat": 4
 },
 "nbformat": 4,
 "nbformat_minor": 2
}
