{
 "cells": [
  {
   "cell_type": "markdown",
   "metadata": {},
   "source": [
    "# A Star Algorithm"
   ]
  },
  {
   "cell_type": "code",
   "execution_count": 187,
   "metadata": {},
   "outputs": [],
   "source": [
    "import networkx as nx\n",
    "import matplotlib.pyplot as plt\n",
    "import time\n",
    "import math\n",
    "import heapq\n"
   ]
  },
  {
   "cell_type": "code",
   "execution_count": 188,
   "metadata": {},
   "outputs": [],
   "source": [
    "# create class for graph visualization\n",
    "class GraphVisualization:\n",
    "  def __init__(self, graph):\n",
    "    self.G = nx.Graph()\n",
    "    self.graph = graph\n",
    "    self.nodes = list(graph.keys())\n",
    "\n",
    "  # method for add edges\n",
    "  def addEdge(self, a, b, weight):\n",
    "    self.G.add_edge(a, b, weight=weight)\n",
    "\n",
    "  # method for visualize a graph\n",
    "  def visualize(self):\n",
    "    pos = nx.spring_layout(self.G)\n",
    "    weights = nx.get_edge_attributes(self.G, \"weight\")\n",
    "\n",
    "    self.G.add_nodes_from(self.nodes)\n",
    "    plt.figure()\n",
    "    nx.draw(\n",
    "      self.G, pos, edge_color='black', width=1, linewidths=1,\n",
    "      node_size=500, node_color='pink', alpha=0.9,\n",
    "      labels={node: node for node in self.G.nodes()}\n",
    "    )\n",
    "    nx.draw_networkx_edge_labels(self.G, pos, edge_labels=weights)\n",
    "    plt.axis('off')\n",
    "    plt.show()\n",
    "  \n",
    "  \n",
    "\n",
    "  # visualize a graph\n",
    "  def graph_visualize(self):\n",
    "    for i in self.graph:\n",
    "      for j in self.graph[i]:\n",
    "        self.addEdge(i, j['v'], j['w'])\n",
    "      \n",
    "  def marked_graph_visualize(self, marked):\n",
    "    for i in self.graph:\n",
    "      for j in self.graph[i]:\n",
    "        if j['v'] in marked:\n",
    "          self.addEdge(i, j['v'], j['w'])\n",
    "        else:\n",
    "          self.addEdge(i, j['v'], 0)\n",
    "\n",
    "    self.visualize()"
   ]
  },
  {
   "cell_type": "code",
   "execution_count": 189,
   "metadata": {},
   "outputs": [],
   "source": [
    "# Created graph\n",
    "graph = {\n",
    "    'V1': [{'v': 'V2','w': 2}, {'v': 'V4','w': 1}, {'v': 'V3', 'w': 8}],\n",
    "    'V2': [{'v': 'V1','w': 2}, {'v': 'V5','w': 1}, {'v': 'V3','w': 6}],\n",
    "    'V3': [{'v': 'V1','w': 8}, {'v': 'V2','w': 6}, {'v': 'V4','w': 7}, {'v': 'V5','w': 5}, {'v': 'V6','w': 1}, {'v': 'V7','w': 2}],\n",
    "    'V4': [{'v': 'V1','w': 1}, {'v': 'V3','w': 7}, {'v': 'V7','w': 9}],\n",
    "    'V5': [{'v': 'V2','w': 1}, {'v': 'V3','w': 5}, {'v': 'V6','w': 3}, {'v': 'V9','w': 7}],\n",
    "    'V6': [{'v': 'V3','w': 1}, {'v': 'V5','w': 3}, {'v': 'V9','w': 9}, {'v': 'V7','w': 4}],\n",
    "    'V7': [{'v': 'V3','w': 2}, {'v': 'V4','w': 9}, {'v': 'V6','w': 4}, {'v': 'V9','w': 3}, {'v': 'V10','w': 1}],\n",
    "    'V8': [{'v': 'V5','w': 2}, {'v': 'V9','w': 7}, {'v': 'V11','w': 9}],\n",
    "    'V9': [{'v': 'V5','w': 9}, {'v': 'V6','w': 6}, {'v': 'V7','w': 3}, {'v': 'V8','w': 7}, {'v': 'V10','w': 1}, {'v': 'V11','w': 2}],\n",
    "    'V10': [{'v': 'V7','w': 1}, {'v': 'V9','w': 1}, {'v': 'V11','w': 4}],\n",
    "    'V11': [{'v': 'V8','w': 9}, {'v': 'V9','w': 2}, {'v': 'V10','w': 4}],\n",
    "}"
   ]
  },
  {
   "cell_type": "code",
   "execution_count": 190,
   "metadata": {},
   "outputs": [],
   "source": [
    "### Queue with priority\n",
    "class PriorityQueue:\n",
    "    def __init__(self):\n",
    "        self.elements = []\n",
    "    \n",
    "    def empty(self):\n",
    "        return len(self.elements) == 0\n",
    "    \n",
    "    def put(self, item, priority):\n",
    "        heapq.heappush(self.elements, (priority, item))\n",
    "    \n",
    "    def get(self):\n",
    "        return heapq.heappop(self.elements)[1]"
   ]
  },
  {
   "cell_type": "code",
   "execution_count": 191,
   "metadata": {},
   "outputs": [],
   "source": [
    "### Heuristic function for accounting in cost\n",
    "def heuristic(a, b):\n",
    "    (x1, y1) = a\n",
    "    (x2, y2) = b\n",
    "\n",
    "    return math.sqrt((x2 - x1) ** 2 + (y2 - y1) ** 2)"
   ]
  },
  {
   "cell_type": "code",
   "execution_count": 192,
   "metadata": {},
   "outputs": [],
   "source": [
    "### A Star Search algorithm\n",
    "\n",
    "pos = {\n",
    "    'V1': [0, 0],\n",
    "    'V2': [2, 0],\n",
    "    'V3': [4, 0],\n",
    "    'V4': [0, 2],\n",
    "    'V5': [2, 2],\n",
    "    'V6': [4, 2],\n",
    "    'V7': [6, 2],\n",
    "    'V8': [0, 4],\n",
    "    'V9': [2, 4],\n",
    "    'V10': [4, 4],\n",
    "    'V11': [6, 4],\n",
    "}\n",
    "def a_star_search(graph, start:str, goal:str):\n",
    "    frontier = PriorityQueue()\n",
    "    frontier.put(start, 0)\n",
    "    came_from = {}\n",
    "    cost_so_far = {}\n",
    "    came_from[start] = None\n",
    "    cost_so_far[start] = 0\n",
    "    \n",
    "    while not frontier.empty():\n",
    "        current = frontier.get()\n",
    "        \n",
    "        if current == goal:\n",
    "            break\n",
    "        \n",
    "        for next in graph[current]:\n",
    "            new_cost = cost_so_far[current] + next['w']\n",
    "            if next['v'] not in cost_so_far or new_cost < cost_so_far[next['v']]:\n",
    "                cost_so_far[next['v']] = new_cost\n",
    "                priority = new_cost + heuristic(pos[goal], pos[next['v']])\n",
    "                frontier.put(next['v'], priority)\n",
    "                came_from[next['v']] = current\n",
    "                \n",
    "    \n",
    "    return came_from, cost_so_far"
   ]
  },
  {
   "cell_type": "code",
   "execution_count": 193,
   "metadata": {},
   "outputs": [],
   "source": [
    "### Finds the way between points according to dictionary\n",
    "def build_path(came_from, start, goal):\n",
    "    result = []\n",
    "    item = goal\n",
    "    result.append(item)\n",
    "    while (item != start):\n",
    "        item = came_from.get(item)\n",
    "        if(item == None):\n",
    "            raise Exception('There is no path')\n",
    "        result.append(item);\n",
    "    \n",
    "    return result[::-1]; "
   ]
  },
  {
   "cell_type": "code",
   "execution_count": 194,
   "metadata": {},
   "outputs": [
    {
     "name": "stdout",
     "output_type": "stream",
     "text": [
      "Path:  ['V1', 'V2', 'V5', 'V6', 'V3', 'V7', 'V10', 'V11']\n",
      "Cost:  14\n",
      "Time:  0.00034117698669433594\n"
     ]
    }
   ],
   "source": [
    "star = time.time()\n",
    "came_from, cost_so_far = a_star_search(graph, 'V1', 'V11')\n",
    "path = build_path(came_from, 'V1', 'V11')\n",
    "end = time.time()\n",
    "print('Path: ', path)\n",
    "print('Cost: ', cost_so_far['V11'])\n",
    "print('Time: ', end - star)\n",
    "\n",
    "\n"
   ]
  }
 ],
 "metadata": {
  "kernelspec": {
   "display_name": "base",
   "language": "python",
   "name": "python3"
  },
  "language_info": {
   "codemirror_mode": {
    "name": "ipython",
    "version": 3
   },
   "file_extension": ".py",
   "mimetype": "text/x-python",
   "name": "python",
   "nbconvert_exporter": "python",
   "pygments_lexer": "ipython3",
   "version": "3.9.13"
  },
  "orig_nbformat": 4
 },
 "nbformat": 4,
 "nbformat_minor": 2
}
