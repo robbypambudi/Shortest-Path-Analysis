{
 "cells": [
  {
   "cell_type": "code",
   "execution_count": 401,
   "metadata": {},
   "outputs": [],
   "source": [
    "import networkx as nx\n",
    "import matplotlib.pyplot as plt\n",
    "import time\n",
    "import math"
   ]
  },
  {
   "cell_type": "code",
   "execution_count": 402,
   "metadata": {},
   "outputs": [],
   "source": [
    "# create class for graph visualization\n",
    "class GraphVisualization:\n",
    "  def __init__(self, graph):\n",
    "    self.G = nx.Graph()\n",
    "    self.graph = graph\n",
    "    self.nodes = list(graph.keys())\n",
    "\n",
    "  # method for add edges\n",
    "  def addEdge(self, a, b, weight):\n",
    "    self.G.add_edge(a, b, weight=weight)\n",
    "\n",
    "  # method for visualize a graph\n",
    "  def visualize(self):\n",
    "    pos = nx.spring_layout(self.G)\n",
    "    weights = nx.get_edge_attributes(self.G, \"weight\")\n",
    "\n",
    "    self.G.add_nodes_from(self.nodes)\n",
    "    plt.figure()\n",
    "    nx.draw(\n",
    "      self.G, pos, edge_color='black', width=1, linewidths=1,\n",
    "      node_size=500, node_color='pink', alpha=0.9,\n",
    "      labels={node: node for node in self.G.nodes()}\n",
    "    )\n",
    "    nx.draw_networkx_edge_labels(self.G, pos, edge_labels=weights)\n",
    "    plt.axis('off')\n",
    "    plt.show()\n",
    "\n",
    "  # visualize a graph\n",
    "  def graph_visualize(self):\n",
    "    for i in self.graph:\n",
    "      for j in self.graph[i]:\n",
    "        self.addEdge(i, j['v'], j['w'])\n",
    "\n",
    "    self.visualize()"
   ]
  },
  {
   "cell_type": "code",
   "execution_count": 403,
   "metadata": {},
   "outputs": [],
   "source": [
    "# Created graph\n",
    "graph = {\n",
    "    'V1': [{'v': 'V2','w': 2}, {'v': 'V4','w': 1}, {'v': 'V3', 'w': 8}],\n",
    "    'V2': [{'v': 'V1','w': 2}, {'v': 'V5','w': 1}, {'v': 'V3','w': 6}],\n",
    "    'V3': [{'v': 'V1','w': 8}, {'v': 'V2','w': 6}, {'v': 'V4','w': 7}, {'v': 'V5','w': 5}, {'v': 'V6','w': 1}, {'v': 'V7','w': 2}],\n",
    "    'V4': [{'v': 'V1','w': 1}, {'v': 'V3','w': 7}, {'v': 'V7','w': 9}],\n",
    "    'V5': [{'v': 'V2','w': 1}, {'v': 'V3','w': 5}, {'v': 'V6','w': 3}, {'v': 'V9','w': 7}],\n",
    "    'V6': [{'v': 'V3','w': 1}, {'v': 'V5','w': 3}, {'v': 'V9','w': 9}, {'v': 'V7','w': 4}],\n",
    "    'V7': [{'v': 'V3','w': 2}, {'v': 'V4','w': 9}, {'v': 'V6','w': 4}, {'v': 'V9','w': 3}, {'v': 'V10','w': 1}],\n",
    "    'V8': [{'v': 'V5','w': 2}, {'v': 'V9','w': 7}, {'v': 'V11','w': 9}],\n",
    "    'V9': [{'v': 'V5','w': 9}, {'v': 'V6','w': 6}, {'v': 'V7','w': 3}, {'v': 'V8','w': 7}, {'v': 'V10','w': 1}, {'v': 'V11','w': 2}],\n",
    "    'V10': [{'v': 'V7','w': 1}, {'v': 'V9','w': 1}, {'v': 'V11','w': 4}],\n",
    "    'V11': [{'v': 'V8','w': 9}, {'v': 'V9','w': 2}, {'v': 'V10','w': 4}],\n",
    "}"
   ]
  },
  {
   "cell_type": "code",
   "execution_count": 404,
   "metadata": {},
   "outputs": [],
   "source": [
    "# Create bellman ford algorithm\n",
    "\n",
    "def bellmanFord(graph, src: str):\n",
    "    INF = 9999\n",
    "    dist = {}\n",
    "    prev = {}\n",
    "    for node in graph:\n",
    "        dist[node] = INF\n",
    "        prev[node] = None\n",
    "    dist[src] = 0\n",
    "\n",
    "    for _ in range(len(graph) - 1):\n",
    "        for node in graph:\n",
    "            for neighbor in graph[node]:\n",
    "                if dist[neighbor['v']] > dist[node] + neighbor['w']:\n",
    "                    dist[neighbor['v']] = dist[node] + neighbor['w']\n",
    "                    prev[neighbor['v']] = node\n",
    "\n",
    "    for node in graph:\n",
    "        for neighbor in graph[node]:\n",
    "            assert dist[neighbor['v']] <= dist[node] + neighbor['w'], \"Negative cycle exists\"\n",
    "\n",
    "    return dist"
   ]
  },
  {
   "cell_type": "code",
   "execution_count": 405,
   "metadata": {},
   "outputs": [],
   "source": [
    "def JohnsonAlgorithm(graph):\n",
    "  #1.\n",
    "  #  create G` where G`.V = G.V + {s},\n",
    "  #      G`.E = G.E + ((s, u) for u in G.V), and \n",
    "  #      weight(s, u) = 0 for u in G.V\n",
    "\n",
    "  G = graph.copy()\n",
    "  G['s'] = [{'v': node, 'w': 0} for node in graph]\n",
    "  for node in graph:\n",
    "    graph[node].append({'v': 's', 'w': 0})\n",
    "\n",
    "  # 2.\n",
    "  # if Bellman-Ford(s) == False\n",
    "  #      return \"The input graph has a negative weight cycle\"\n",
    "  #  else:\n",
    "  #      for vertex v in G`.V:\n",
    "  #          h(v) = distance(s, v) computed by Bellman-Ford\n",
    "  #      for edge (u, v) in G`.E:\n",
    "  #          weight`(u, v) = weight(u, v) + h(u) - h(v)\n",
    "\n",
    "  h = bellmanFord(graph, 'V1')\n",
    "  for node in graph:\n",
    "    for neighbor in graph[node]:\n",
    "      neighbor['w'] = neighbor['w'] + h[node] - h[neighbor['v']]\n"
   ]
  },
  {
   "cell_type": "code",
   "execution_count": 406,
   "metadata": {},
   "outputs": [],
   "source": [
    "# matrix = intial_matrix(graph)\n",
    "result = JohnsonAlgorithm(graph)\n",
    "# print_shortest_graph(result, 'V1', 'V11')\n",
    "\n",
    "# graph visualization\n"
   ]
  }
 ],
 "metadata": {
  "kernelspec": {
   "display_name": "base",
   "language": "python",
   "name": "python3"
  },
  "language_info": {
   "codemirror_mode": {
    "name": "ipython",
    "version": 3
   },
   "file_extension": ".py",
   "mimetype": "text/x-python",
   "name": "python",
   "nbconvert_exporter": "python",
   "pygments_lexer": "ipython3",
   "version": "3.9.13"
  },
  "orig_nbformat": 4
 },
 "nbformat": 4,
 "nbformat_minor": 2
}
