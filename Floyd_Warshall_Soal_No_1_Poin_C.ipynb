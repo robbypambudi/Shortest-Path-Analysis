{
 "cells": [
  {
   "cell_type": "markdown",
   "metadata": {},
   "source": [
    "# Floyd Warshall Algorithm"
   ]
  },
  {
   "cell_type": "code",
   "execution_count": 62,
   "metadata": {},
   "outputs": [],
   "source": [
    "import networkx as nx\n",
    "import matplotlib.pyplot as plt\n",
    "import time\n",
    "import math"
   ]
  },
  {
   "cell_type": "code",
   "execution_count": 63,
   "metadata": {},
   "outputs": [],
   "source": [
    "# create class for graph visualization\n",
    "class GraphVisualization:\n",
    "  def __init__(self, graph):\n",
    "    self.G = nx.Graph()\n",
    "    self.graph = graph\n",
    "    self.nodes = list(graph.keys())\n",
    "\n",
    "  # method for add edges\n",
    "  def addEdge(self, a, b, weight):\n",
    "    self.G.add_edge(a, b, weight=weight)\n",
    "\n",
    "  # method for visualize a graph\n",
    "  def visualize(self):\n",
    "    pos = nx.spring_layout(self.G)\n",
    "    weights = nx.get_edge_attributes(self.G, \"weight\")\n",
    "\n",
    "    self.G.add_nodes_from(self.nodes)\n",
    "    plt.figure()\n",
    "    nx.draw(\n",
    "      self.G, pos, edge_color='black', width=1, linewidths=1,\n",
    "      node_size=500, node_color='pink', alpha=0.9,\n",
    "      labels={node: node for node in self.G.nodes()}\n",
    "    )\n",
    "    nx.draw_networkx_edge_labels(self.G, pos, edge_labels=weights)\n",
    "    plt.axis('off')\n",
    "    plt.show()\n",
    "\n",
    "  # visualize a graph\n",
    "  def graph_visualize(self):\n",
    "    for i in self.graph:\n",
    "      for j in self.graph[i]:\n",
    "        self.addEdge(i, j['v'], j['w'])\n",
    "\n",
    "    self.visualize()"
   ]
  },
  {
   "cell_type": "code",
   "execution_count": 64,
   "metadata": {},
   "outputs": [],
   "source": [
    "# Created graph\n",
    "graph = {\n",
    "    'V1': [{'v': 'V2','w': 2}, {'v': 'V4','w': 1}, {'v': 'V3', 'w': 8}],\n",
    "    'V2': [{'v': 'V1','w': 2}, {'v': 'V5','w': 1}, {'v': 'V3','w': 6}],\n",
    "    'V3': [{'v': 'V1','w': 8}, {'v': 'V2','w': 6}, {'v': 'V4','w': 7}, {'v': 'V5','w': 5}, {'v': 'V6','w': 1}, {'v': 'V7','w': 2}],\n",
    "    'V4': [{'v': 'V1','w': 1}, {'v': 'V3','w': 7}, {'v': 'V7','w': 9}],\n",
    "    'V5': [{'v': 'V2','w': 1}, {'v': 'V3','w': 5}, {'v': 'V6','w': 3}, {'v': 'V9','w': 7}],\n",
    "    'V6': [{'v': 'V3','w': 1}, {'v': 'V5','w': 3}, {'v': 'V9','w': 9}, {'v': 'V7','w': 4}],\n",
    "    'V7': [{'v': 'V3','w': 2}, {'v': 'V4','w': 9}, {'v': 'V6','w': 4}, {'v': 'V9','w': 3}, {'v': 'V10','w': 1}],\n",
    "    'V8': [{'v': 'V5','w': 2}, {'v': 'V9','w': 7}, {'v': 'V11','w': 9}],\n",
    "    'V9': [{'v': 'V5','w': 9}, {'v': 'V6','w': 6}, {'v': 'V7','w': 3}, {'v': 'V8','w': 7}, {'v': 'V10','w': 1}, {'v': 'V11','w': 2}],\n",
    "    'V10': [{'v': 'V7','w': 1}, {'v': 'V9','w': 1}, {'v': 'V11','w': 4}],\n",
    "    'V11': [{'v': 'V8','w': 9}, {'v': 'V9','w': 2}, {'v': 'V10','w': 4}],\n",
    "}"
   ]
  },
  {
   "cell_type": "code",
   "execution_count": 65,
   "metadata": {},
   "outputs": [],
   "source": [
    "def print_matrix(M):\n",
    "  for i in range(len(M)):\n",
    "    for j in range(len(M)):\n",
    "      print(M[i][j], end=\"\\t\")\n",
    "    print()"
   ]
  },
  {
   "cell_type": "code",
   "execution_count": 66,
   "metadata": {},
   "outputs": [],
   "source": [
    "def intial_matrix(G):\n",
    "    vertices = list(graph.keys())\n",
    "\n",
    "    # create matrix\n",
    "    matrix = [[math.inf for i in range(len(vertices))] for j in range(len(vertices))]\n",
    "    \n",
    "    # set diagonal to 0\n",
    "    for i in range(len(vertices)):\n",
    "        matrix[i][i] = 0\n",
    "    \n",
    "    # set matrix\n",
    "    for i in range(len(vertices)):\n",
    "        for j in range(len(graph[vertices[i]])):\n",
    "            matrix[i][vertices.index(graph[vertices[i]][j]['v'])] = graph[vertices[i]][j]['w']\n",
    "    \n",
    "    return matrix\n"
   ]
  },
  {
   "cell_type": "code",
   "execution_count": 67,
   "metadata": {},
   "outputs": [],
   "source": [
    "def flyod_warshall():\n",
    "    # Floyd Warshall\n",
    "    matrix = intial_matrix(graph)\n",
    "\n",
    "    # Add vertices one by one to the set of intermediate vertices.\n",
    "    for k in range(len(matrix)):\n",
    "        # Pick all vertices as source one by one.\n",
    "        for i in range(len(matrix)):\n",
    "            # Pick all vertices as destination for the above picked source.\n",
    "            for j in range(len(matrix)):\n",
    "                # If vertex k is on the shortest path from i to j, then update the value of dist[i][j]\n",
    "                matrix[i][j] = min(matrix[i][j], matrix[i][k] + matrix[k][j])\n",
    "\n",
    "    return matrix"
   ]
  },
  {
   "cell_type": "code",
   "execution_count": 68,
   "metadata": {},
   "outputs": [],
   "source": [
    "def shortest_path(matrix, source:str, destination:str):\n",
    "    # get index of source and destination\n",
    "    source_index = list(graph.keys()).index(source)\n",
    "    destination_index = list(graph.keys()).index(destination)\n",
    "\n",
    "    # print shortest path\n",
    "    print(f'\\nShortest Path from {source} to {destination} is {matrix[source_index][destination_index]}')\n",
    "\n",
    "    "
   ]
  },
  {
   "cell_type": "code",
   "execution_count": 72,
   "metadata": {},
   "outputs": [],
   "source": [
    "def print_path(matrix, source:str, destination:str):\n",
    "    # get index of source and destination\n",
    "    source_index = list(graph.keys()).index(source)\n",
    "    destination_index = list(graph.keys()).index(destination)\n",
    "\n",
    "    # print path\n",
    "    path = []\n",
    "    while source_index != destination_index:\n",
    "        for i in range(len(matrix)):\n",
    "            if matrix[source_index][destination_index] == matrix[source_index][i] + matrix[i][destination_index]:\n",
    "                path.append(list(graph.keys())[i])\n",
    "                source_index = i\n",
    "    print(f'Path: {path}')"
   ]
  },
  {
   "cell_type": "code",
   "execution_count": 73,
   "metadata": {},
   "outputs": [
    {
     "name": "stdout",
     "output_type": "stream",
     "text": [
      "\n",
      "Shortest Path from V1 to V11 is 12\n",
      "Path: ['V1', 'V2', 'V5', 'V9', 'V11']\n",
      "\n",
      "Time: 0.004942178726196289 seconds\n"
     ]
    }
   ],
   "source": [
    "star = time.time()\n",
    "result = flyod_warshall()\n",
    "shortest_path(result, 'V1', 'V11')\n",
    "end = time.time()\n",
    "print_path(result, 'V1', 'V11')\n",
    "print(f'\\nTime: {end - star} seconds')\n"
   ]
  }
 ],
 "metadata": {
  "kernelspec": {
   "display_name": "base",
   "language": "python",
   "name": "python3"
  },
  "language_info": {
   "codemirror_mode": {
    "name": "ipython",
    "version": 3
   },
   "file_extension": ".py",
   "mimetype": "text/x-python",
   "name": "python",
   "nbconvert_exporter": "python",
   "pygments_lexer": "ipython3",
   "version": "3.9.13"
  },
  "orig_nbformat": 4
 },
 "nbformat": 4,
 "nbformat_minor": 2
}
